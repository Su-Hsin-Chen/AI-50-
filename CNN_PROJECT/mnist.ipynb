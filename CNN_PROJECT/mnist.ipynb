{
 "cells": [
  {
   "cell_type": "markdown",
   "metadata": {},
   "source": [
    "- `TODO: adjust ...` 代表要改的"
   ]
  },
  {
   "cell_type": "markdown",
   "metadata": {},
   "source": [
    "## Download Library"
   ]
  },
  {
   "cell_type": "code",
   "execution_count": 1,
   "metadata": {},
   "outputs": [],
   "source": [
    "# !pip install ipykernel\n",
    "# !pip install torch torchvision torchaudio\n",
    "# !pip install matplotlib\n",
    "# !pip install opencv-python"
   ]
  },
  {
   "cell_type": "markdown",
   "metadata": {},
   "source": [
    "## import Library"
   ]
  },
  {
   "cell_type": "code",
   "execution_count": 2,
   "metadata": {},
   "outputs": [],
   "source": [
    "from typing import Callable, Optional\n",
    "from pathlib import Path\n",
    "\n",
    "from PIL import Image\n",
    "import numpy as np\n",
    "import torch\n",
    "from torch import nn\n",
    "from torch.utils.data import DataLoader, Dataset\n",
    "from torchvision import transforms\n",
    "import matplotlib.pyplot as plt"
   ]
  },
  {
   "cell_type": "markdown",
   "metadata": {},
   "source": [
    "## MNIST"
   ]
  },
  {
   "cell_type": "markdown",
   "metadata": {},
   "source": [
    "## Data Structure\n",
    "\n",
    "```text\n",
    ".\n",
    "├── dataset\n",
    "│   └── mnist\n",
    "│       └── train\n",
    "│           ├── data\n",
    "│           │   ├── 0.jpg\n",
    "│           │   ├── 1.jpg\n",
    "│           │   ├── ...\n",
    "│           │   └── 59999.jpg\n",
    "│           └── label.txt\n",
    "└── mnist.ipynb  (訓練 MNIST)\n",
    "```\n"
   ]
  },
  {
   "cell_type": "markdown",
   "metadata": {},
   "source": [
    "### Implement dataset class"
   ]
  },
  {
   "cell_type": "code",
   "execution_count": 3,
   "metadata": {},
   "outputs": [],
   "source": [
    "class MnistDataset(Dataset):\n",
    "    def __init__(self, path: str='./dataset/mnist/train', data_transform: Optional[Callable]=None) -> None:\n",
    "        super().__init__()\n",
    "        self.dataset_path = Path(path)\n",
    "        self.data_transform = data_transform\n",
    "        self.image, self.label = self.read_dataset()\n",
    "\n",
    "        assert len(self.image) == len(self.label)\n",
    "        self.length = len(self.image)\n",
    "\n",
    "    def read_dataset(self):  # TODO: adjust this function\n",
    "        image = dict()\n",
    "        for path in self.dataset_path.joinpath('data').glob('**/*'):\n",
    "            if path.suffix in ['.jpg']:\n",
    "                image[int(path.stem)] = np.array(Image.open(path).copy())\n",
    "\n",
    "        with open(self.dataset_path.joinpath('label.txt'), mode='r') as f:\n",
    "            label = f.read()\n",
    "        label = [int(i) for i in list(label)]\n",
    "\n",
    "        return image, label\n",
    "\n",
    "    def __getitem__(self, index):\n",
    "        image, label = self.image[index], self.label[index]\n",
    "        if self.data_transform is not None:\n",
    "            image = Image.fromarray(image)\n",
    "            image = self.data_transform(image)\n",
    "\n",
    "        return image, label\n",
    "\n",
    "    def __len__(self):\n",
    "        return self.length"
   ]
  },
  {
   "cell_type": "markdown",
   "metadata": {},
   "source": [
    "### Implement model class"
   ]
  },
  {
   "cell_type": "code",
   "execution_count": 4,
   "metadata": {},
   "outputs": [],
   "source": [
    "class CNN(nn.Module):\n",
    "    def __init__(self, in_channels=1, out_num=10):  # TODO: adjust out_num\n",
    "        super(CNN, self).__init__()\n",
    "\n",
    "        self.cnn1 = nn.Conv2d(in_channels=in_channels, out_channels=16, kernel_size=5, stride=1, padding=0) # out_shape=(16,24,24)\n",
    "        self.relu1 = nn.ReLU()\n",
    "        self.maxpool1 = nn.MaxPool2d(kernel_size=2) # out_shape=(16,12,12)\n",
    "\n",
    "        self.cnn2 = nn.Conv2d(in_channels=16, out_channels=32, kernel_size=5, stride=1, padding=0) # out_shape=(32,8,8)\n",
    "        self.relu2 = nn.ReLU()\n",
    "        self.maxpool2 = nn.MaxPool2d(kernel_size=2) # out_shape=(32,4,4)\n",
    "\n",
    "        self.fc1 = nn.Linear(in_features=32 * 4 * 4, out_features=out_num)  # in_shape=(32*4*4)  # TODO: adjust in_features\n",
    "\n",
    "    def forward(self, x):\n",
    "        x = self.cnn1(x)\n",
    "        x = self.relu1(x)\n",
    "        x = self.maxpool1(x)\n",
    "\n",
    "        x = self.cnn2(x)\n",
    "        x = self.relu2(x)\n",
    "        x = self.maxpool2(x)\n",
    "\n",
    "        x = x.view(x.size(0), -1)\n",
    "        x = self.fc1(x)\n",
    "        return x"
   ]
  },
  {
   "cell_type": "markdown",
   "metadata": {},
   "source": [
    "### Define Parameters"
   ]
  },
  {
   "cell_type": "code",
   "execution_count": 5,
   "metadata": {},
   "outputs": [],
   "source": [
    "device = 'cuda'\n",
    "dataset_path = './dataset/mnist/train'  # TODO: adjust path\n",
    "output_path = './model/mnist.pt'  # TODO: adjust path\n",
    "epoch = 5  #疊帶次數\n",
    "batch_size = 16 #多少張圖\n",
    "learning_rate = 0.1 \n",
    "img_size=(28, 28)  # TODO: adjust img_size"
   ]
  },
  {
   "cell_type": "markdown",
   "metadata": {},
   "source": [
    "### Build\n",
    "(1)model, (2)loss-function, (3)optimizer, (4)dataloader"
   ]
  },
  {
   "cell_type": "code",
   "execution_count": 6,
   "metadata": {},
   "outputs": [
    {
     "name": "stdout",
     "output_type": "stream",
     "text": [
      "cuda\n"
     ]
    }
   ],
   "source": [
    "# build model\n",
    "model = CNN().to(device)\n",
    "print(device)\n",
    "# loss function\n",
    "criterion = nn.CrossEntropyLoss()\n",
    "# optimizer\n",
    "optimizer = torch.optim.SGD(model.parameters(), lr=learning_rate)\n",
    "\n",
    "data_transform = transforms.Compose([\n",
    "    transforms.Resize(img_size),\n",
    "    transforms.ToTensor(),   # [0, 1]\n",
    "    # transforms.Normalize((0.5), (0.5))  # [-1, 1]\n",
    "])\n",
    "dataset = MnistDataset(path=dataset_path, data_transform=data_transform)\n",
    "dataloader = DataLoader(dataset, batch_size=batch_size, shuffle=True)"
   ]
  },
  {
   "cell_type": "code",
   "execution_count": 7,
   "metadata": {},
   "outputs": [],
   "source": [
    "def accuracy(pred: torch.Tensor, label: torch.Tensor):\n",
    "    _, pred_label = pred.max(1)\n",
    "    num_correct = (pred_label == label).sum().item()\n",
    "    acc = num_correct / label.shape[0]\n",
    "    return acc"
   ]
  },
  {
   "cell_type": "markdown",
   "metadata": {},
   "source": [
    "### Training"
   ]
  },
  {
   "cell_type": "code",
   "execution_count": 8,
   "metadata": {},
   "outputs": [
    {
     "name": "stdout",
     "output_type": "stream",
     "text": [
      "Epoch[1/5] loss: 0.12484252233723528, acc: 0.9600666666666666\n",
      "Epoch[2/5] loss: 0.04582011810022426, acc: 0.9854833333333334\n",
      "Epoch[3/5] loss: 0.03372866201682579, acc: 0.98935\n",
      "Epoch[4/5] loss: 0.026939631766847258, acc: 0.9916166666666667\n",
      "Epoch[5/5] loss: 0.022380970956768578, acc: 0.99255\n"
     ]
    }
   ],
   "source": [
    "metric = {'loss': [], 'acc': []}\n",
    "for i_epoch in range(epoch):\n",
    "    train_loss = []\n",
    "    train_acc = []\n",
    "    model.train(mode=True)\n",
    "    for i_batch, (image, label) in enumerate(dataloader):\n",
    "        image = image.to(device)\n",
    "        label = label.to(device)\n",
    "\n",
    "        pred = model.forward(image)  # inference\n",
    "\n",
    "        loss = criterion(pred, label)  # calculate loss\n",
    "        optimizer.zero_grad()  # reset gradient to zero\n",
    "        loss.backward()  # calculate gradient\n",
    "        optimizer.step()  # optimize weight (using gradient)\n",
    "\n",
    "        train_loss += [loss.item()]\n",
    "        train_acc += [accuracy(pred, label)]\n",
    "\n",
    "    metric['loss'] += [sum(train_loss)/ len(dataloader)]\n",
    "    metric['acc'] += [sum(train_acc)/ len(dataloader)]\n",
    "    print(f'Epoch[{i_epoch+1}/{epoch}] loss: {metric[\"loss\"][-1]}, acc: {metric[\"acc\"][-1]}')"
   ]
  },
  {
   "cell_type": "code",
   "execution_count": 9,
   "metadata": {},
   "outputs": [
    {
     "data": {
      "text/plain": [
       "[<matplotlib.lines.Line2D at 0x286285ad310>]"
      ]
     },
     "execution_count": 9,
     "metadata": {},
     "output_type": "execute_result"
    },
    {
     "data": {
      "image/png": "[encoded data removed]",
      "text/plain": [
       "<Figure size 640x480 with 1 Axes>"
      ]
     },
     "metadata": {},
     "output_type": "display_data"
    }
   ],
   "source": [
    "plt.plot(range(len(metric[\"loss\"])), metric[\"loss\"])"
   ]
  },
  {
   "cell_type": "markdown",
   "metadata": {},
   "source": [
    "### Save Model"
   ]
  },
  {
   "cell_type": "code",
   "execution_count": 10,
   "metadata": {},
   "outputs": [],
   "source": [
    "model_path = Path(output_path)\n",
    "model_path.parent.mkdir(parents=True, exist_ok=True)\n",
    "torch.jit.script(model).save(model_path)"
   ]
  },
  {
   "cell_type": "markdown",
   "metadata": {},
   "source": [
    "### Load Model"
   ]
  },
  {
   "cell_type": "code",
   "execution_count": 11,
   "metadata": {},
   "outputs": [
    {
     "ename": "RuntimeError",
     "evalue": "The following operation failed in the TorchScript interpreter.\nTraceback of TorchScript, serialized code (most recent call last):\n  File \"code/__torch__.py\", line 16, in forward\n    x: Tensor) -> Tensor:\n    cnn1 = self.cnn1\n    x0 = (cnn1).forward(x, )\n          ~~~~~~~~~~~~~ <--- HERE\n    relu1 = self.relu1\n    x1 = (relu1).forward(x0, )\n  File \"code/__torch__/torch/nn/modules/conv.py\", line 23, in forward\n    weight = self.weight\n    bias = self.bias\n    _0 = (self)._conv_forward(input, weight, bias, )\n          ~~~~~~~~~~~~~~~~~~~ <--- HERE\n    return _0\n  def _conv_forward(self: __torch__.torch.nn.modules.conv.Conv2d,\n  File \"code/__torch__/torch/nn/modules/conv.py\", line 29, in _conv_forward\n    weight: Tensor,\n    bias: Optional[Tensor]) -> Tensor:\n    _1 = torch.conv2d(input, weight, bias, [1, 1], [0, 0], [1, 1])\n         ~~~~~~~~~~~~ <--- HERE\n    return _1\n\nTraceback of TorchScript, original code (most recent call last):\n  File \"C:\\Users\\User\\AppData\\Local\\Temp\\ipykernel_12780\\600151246.py\", line 16, in forward\n    def forward(self, x):\n        x = self.cnn1(x)\n            ~~~~~~~~~ <--- HERE\n        x = self.relu1(x)\n        x = self.maxpool1(x)\n  File \"c:\\Users\\User\\anaconda3\\envs\\pytorch_project\\lib\\site-packages\\torch\\nn\\modules\\conv.py\", line 458, in forward\n    def forward(self, input: Tensor) -> Tensor:\n        return self._conv_forward(input, self.weight, self.bias)\n               ~~~~~~~~~~~~~~~~~~ <--- HERE\n  File \"c:\\Users\\User\\anaconda3\\envs\\pytorch_project\\lib\\site-packages\\torch\\nn\\modules\\conv.py\", line 454, in _conv_forward\n                            weight, bias, self.stride,\n                            _pair(0), self.dilation, self.groups)\n        return F.conv2d(input, weight, bias, self.stride,\n               ~~~~~~~~ <--- HERE\n                        self.padding, self.dilation, self.groups)\nRuntimeError: Input type (torch.FloatTensor) and weight type (torch.cuda.FloatTensor) should be the same or input should be a MKLDNN tensor and weight is a dense tensor\n",
     "output_type": "error",
     "traceback": [
      "\u001b[1;31m---------------------------------------------------------------------------\u001b[0m",
      "\u001b[1;31mRuntimeError\u001b[0m                              Traceback (most recent call last)",
      "Cell \u001b[1;32mIn[11], line 14\u001b[0m\n\u001b[0;32m     12\u001b[0m test_image \u001b[38;5;241m=\u001b[39m Image\u001b[38;5;241m.\u001b[39mopen(image_path)\n\u001b[0;32m     13\u001b[0m trans_image \u001b[38;5;241m=\u001b[39m transform(test_image)\n\u001b[1;32m---> 14\u001b[0m pred \u001b[38;5;241m=\u001b[39m \u001b[43mtrained_model\u001b[49m\u001b[43m(\u001b[49m\u001b[43mtrans_image\u001b[49m\u001b[38;5;241;43m.\u001b[39;49m\u001b[43munsqueeze\u001b[49m\u001b[43m(\u001b[49m\u001b[38;5;241;43m0\u001b[39;49m\u001b[43m)\u001b[49m\u001b[43m)\u001b[49m\n\u001b[0;32m     15\u001b[0m pred_label \u001b[38;5;241m=\u001b[39m pred\u001b[38;5;241m.\u001b[39mmax(\u001b[38;5;241m1\u001b[39m)[\u001b[38;5;241m1\u001b[39m]\n\u001b[0;32m     17\u001b[0m \u001b[38;5;28mprint\u001b[39m(pred_label)\n",
      "File \u001b[1;32mc:\\Users\\User\\anaconda3\\envs\\pytorch_project\\lib\\site-packages\\torch\\nn\\modules\\module.py:1553\u001b[0m, in \u001b[0;36mModule._wrapped_call_impl\u001b[1;34m(self, *args, **kwargs)\u001b[0m\n\u001b[0;32m   1551\u001b[0m     \u001b[38;5;28;01mreturn\u001b[39;00m \u001b[38;5;28mself\u001b[39m\u001b[38;5;241m.\u001b[39m_compiled_call_impl(\u001b[38;5;241m*\u001b[39margs, \u001b[38;5;241m*\u001b[39m\u001b[38;5;241m*\u001b[39mkwargs)  \u001b[38;5;66;03m# type: ignore[misc]\u001b[39;00m\n\u001b[0;32m   1552\u001b[0m \u001b[38;5;28;01melse\u001b[39;00m:\n\u001b[1;32m-> 1553\u001b[0m     \u001b[38;5;28;01mreturn\u001b[39;00m \u001b[38;5;28;43mself\u001b[39;49m\u001b[38;5;241;43m.\u001b[39;49m\u001b[43m_call_impl\u001b[49m\u001b[43m(\u001b[49m\u001b[38;5;241;43m*\u001b[39;49m\u001b[43margs\u001b[49m\u001b[43m,\u001b[49m\u001b[43m \u001b[49m\u001b[38;5;241;43m*\u001b[39;49m\u001b[38;5;241;43m*\u001b[39;49m\u001b[43mkwargs\u001b[49m\u001b[43m)\u001b[49m\n",
      "File \u001b[1;32mc:\\Users\\User\\anaconda3\\envs\\pytorch_project\\lib\\site-packages\\torch\\nn\\modules\\module.py:1562\u001b[0m, in \u001b[0;36mModule._call_impl\u001b[1;34m(self, *args, **kwargs)\u001b[0m\n\u001b[0;32m   1557\u001b[0m \u001b[38;5;66;03m# If we don't have any hooks, we want to skip the rest of the logic in\u001b[39;00m\n\u001b[0;32m   1558\u001b[0m \u001b[38;5;66;03m# this function, and just call forward.\u001b[39;00m\n\u001b[0;32m   1559\u001b[0m \u001b[38;5;28;01mif\u001b[39;00m \u001b[38;5;129;01mnot\u001b[39;00m (\u001b[38;5;28mself\u001b[39m\u001b[38;5;241m.\u001b[39m_backward_hooks \u001b[38;5;129;01mor\u001b[39;00m \u001b[38;5;28mself\u001b[39m\u001b[38;5;241m.\u001b[39m_backward_pre_hooks \u001b[38;5;129;01mor\u001b[39;00m \u001b[38;5;28mself\u001b[39m\u001b[38;5;241m.\u001b[39m_forward_hooks \u001b[38;5;129;01mor\u001b[39;00m \u001b[38;5;28mself\u001b[39m\u001b[38;5;241m.\u001b[39m_forward_pre_hooks\n\u001b[0;32m   1560\u001b[0m         \u001b[38;5;129;01mor\u001b[39;00m _global_backward_pre_hooks \u001b[38;5;129;01mor\u001b[39;00m _global_backward_hooks\n\u001b[0;32m   1561\u001b[0m         \u001b[38;5;129;01mor\u001b[39;00m _global_forward_hooks \u001b[38;5;129;01mor\u001b[39;00m _global_forward_pre_hooks):\n\u001b[1;32m-> 1562\u001b[0m     \u001b[38;5;28;01mreturn\u001b[39;00m \u001b[43mforward_call\u001b[49m\u001b[43m(\u001b[49m\u001b[38;5;241;43m*\u001b[39;49m\u001b[43margs\u001b[49m\u001b[43m,\u001b[49m\u001b[43m \u001b[49m\u001b[38;5;241;43m*\u001b[39;49m\u001b[38;5;241;43m*\u001b[39;49m\u001b[43mkwargs\u001b[49m\u001b[43m)\u001b[49m\n\u001b[0;32m   1564\u001b[0m \u001b[38;5;28;01mtry\u001b[39;00m:\n\u001b[0;32m   1565\u001b[0m     result \u001b[38;5;241m=\u001b[39m \u001b[38;5;28;01mNone\u001b[39;00m\n",
      "\u001b[1;31mRuntimeError\u001b[0m: The following operation failed in the TorchScript interpreter.\nTraceback of TorchScript, serialized code (most recent call last):\n  File \"code/__torch__.py\", line 16, in forward\n    x: Tensor) -> Tensor:\n    cnn1 = self.cnn1\n    x0 = (cnn1).forward(x, )\n          ~~~~~~~~~~~~~ <--- HERE\n    relu1 = self.relu1\n    x1 = (relu1).forward(x0, )\n  File \"code/__torch__/torch/nn/modules/conv.py\", line 23, in forward\n    weight = self.weight\n    bias = self.bias\n    _0 = (self)._conv_forward(input, weight, bias, )\n          ~~~~~~~~~~~~~~~~~~~ <--- HERE\n    return _0\n  def _conv_forward(self: __torch__.torch.nn.modules.conv.Conv2d,\n  File \"code/__torch__/torch/nn/modules/conv.py\", line 29, in _conv_forward\n    weight: Tensor,\n    bias: Optional[Tensor]) -> Tensor:\n    _1 = torch.conv2d(input, weight, bias, [1, 1], [0, 0], [1, 1])\n         ~~~~~~~~~~~~ <--- HERE\n    return _1\n\nTraceback of TorchScript, original code (most recent call last):\n  File \"C:\\Users\\User\\AppData\\Local\\Temp\\ipykernel_12780\\600151246.py\", line 16, in forward\n    def forward(self, x):\n        x = self.cnn1(x)\n            ~~~~~~~~~ <--- HERE\n        x = self.relu1(x)\n        x = self.maxpool1(x)\n  File \"c:\\Users\\User\\anaconda3\\envs\\pytorch_project\\lib\\site-packages\\torch\\nn\\modules\\conv.py\", line 458, in forward\n    def forward(self, input: Tensor) -> Tensor:\n        return self._conv_forward(input, self.weight, self.bias)\n               ~~~~~~~~~~~~~~~~~~ <--- HERE\n  File \"c:\\Users\\User\\anaconda3\\envs\\pytorch_project\\lib\\site-packages\\torch\\nn\\modules\\conv.py\", line 454, in _conv_forward\n                            weight, bias, self.stride,\n                            _pair(0), self.dilation, self.groups)\n        return F.conv2d(input, weight, bias, self.stride,\n               ~~~~~~~~ <--- HERE\n                        self.padding, self.dilation, self.groups)\nRuntimeError: Input type (torch.FloatTensor) and weight type (torch.cuda.FloatTensor) should be the same or input should be a MKLDNN tensor and weight is a dense tensor\n"
     ]
    }
   ],
   "source": [
    "model_path = Path('./model/mnist.pt')  # TODO: adjust path\n",
    "assert model_path.exists() is True\n",
    "image_path = Path('./dataset/mnist/test/data/0.jpg')  # TODO: adjust path\n",
    "assert image_path.exists() is True\n",
    "\n",
    "transform = transforms.Compose([\n",
    "    transforms.Resize((28, 28)),  # TODO: adjust img_size\n",
    "    transforms.ToTensor(),\n",
    "])\n",
    "\n",
    "trained_model = torch.jit.load(model_path)\n",
    "test_image = Image.open(image_path)\n",
    "trans_image = transform(test_image)\n",
    "pred = trained_model(trans_image.unsqueeze(0))\n",
    "pred_label = pred.max(1)[1]\n",
    "\n",
    "print(pred_label)\n",
    "test_image"
   ]
  }
 ],
 "metadata": {
  "kernelspec": {
   "display_name": "pytorch_project",
   "language": "python",
   "name": "python3"
  },
  "language_info": {
   "codemirror_mode": {
    "name": "ipython",
    "version": 3
   },
   "file_extension": ".py",
   "mimetype": "text/x-python",
   "name": "python",
   "nbconvert_exporter": "python",
   "pygments_lexer": "ipython3",
   "version": "3.8.20"
  },
  "orig_nbformat": 4
 },
 "nbformat": 4,
 "nbformat_minor": 2
}
